{
 "cells": [
  {
   "cell_type": "code",
   "execution_count": null,
   "id": "aab66559",
   "metadata": {},
   "outputs": [
    {
     "name": "stderr",
     "output_type": "stream",
     "text": [
      "[nltk_data] Downloading package punkt to\n",
      "[nltk_data]     C:\\Users\\PC\\AppData\\Roaming\\nltk_data...\n",
      "[nltk_data]   Unzipping tokenizers\\punkt.zip.\n",
      "[nltk_data] Downloading package stopwords to\n",
      "[nltk_data]     C:\\Users\\PC\\AppData\\Roaming\\nltk_data...\n",
      "[nltk_data]   Package stopwords is already up-to-date!\n"
     ]
    },
    {
     "data": {
      "text/plain": [
       "True"
      ]
     },
     "execution_count": 6,
     "metadata": {},
     "output_type": "execute_result"
    }
   ],
   "source": [
    "#A Hybrid Transformer Model for Fake News Detection: Leveraging Bayesian Optimization and Bidirectional Recurrent Unit\n",
    "# import nltk\n",
    "# nltk.download('punkt')\n",
    "# nltk.download('stopwords')"
   ]
  },
  {
   "cell_type": "code",
   "execution_count": 2,
   "id": "f80efe34",
   "metadata": {},
   "outputs": [
    {
     "name": "stderr",
     "output_type": "stream",
     "text": [
      "c:\\Users\\PC\\OneDrive\\Desktop\\AI Projects\\fake news detection\\venv\\lib\\site-packages\\tqdm\\auto.py:21: TqdmWarning: IProgress not found. Please update jupyter and ipywidgets. See https://ipywidgets.readthedocs.io/en/stable/user_install.html\n",
      "  from .autonotebook import tqdm as notebook_tqdm\n",
      "[nltk_data] Downloading package stopwords to\n",
      "[nltk_data]     C:\\Users\\PC\\AppData\\Roaming\\nltk_data...\n",
      "[nltk_data]   Package stopwords is already up-to-date!\n",
      "[nltk_data] Downloading package wordnet to\n",
      "[nltk_data]     C:\\Users\\PC\\AppData\\Roaming\\nltk_data...\n",
      "[nltk_data]   Package wordnet is already up-to-date!\n"
     ]
    },
    {
     "data": {
      "text/plain": [
       "True"
      ]
     },
     "execution_count": 2,
     "metadata": {},
     "output_type": "execute_result"
    }
   ],
   "source": [
    "import pandas as pd\n",
    "import numpy as np\n",
    "import re\n",
    "import string\n",
    "import nltk\n",
    "import matplotlib.pyplot as plt\n",
    "import seaborn as sns\n",
    "\n",
    "from nltk.corpus import stopwords\n",
    "from nltk.stem import WordNetLemmatizer\n",
    "from sklearn.feature_extraction.text import TfidfVectorizer\n",
    "from sklearn.model_selection import train_test_split\n",
    "from sklearn.metrics import classification_report, confusion_matrix\n",
    "\n",
    "from tensorflow.keras.models import Sequential\n",
    "from tensorflow.keras.layers import Dense, LSTM, Embedding, Dropout, Conv1D, MaxPooling1D, Flatten\n",
    "from tensorflow.keras.preprocessing.text import Tokenizer\n",
    "from tensorflow.keras.preprocessing.sequence import pad_sequences\n",
    "from transformers import BertTokenizer, BertModel\n",
    "from tensorflow.keras.layers import Bidirectional\n",
    "from tensorflow.keras.layers import GRU\n",
    "import torch\n",
    "import torch.nn as nn\n",
    "import torch.optim as optim\n",
    "from torch.utils.data import DataLoader, TensorDataset\n",
    "\n",
    "\n",
    "import warnings\n",
    "warnings.filterwarnings(\"ignore\")\n",
    "nltk.download('stopwords')\n",
    "nltk.download('wordnet')"
   ]
  },
  {
   "cell_type": "code",
   "execution_count": null,
   "id": "f1f1fecf",
   "metadata": {},
   "outputs": [],
   "source": [
    "# stop_words = set(stopwords.words(\"english\"))\n",
    "# lemmatizer = WordNetLemmatizer()\n",
    "\n",
    "# def clean_text(text):\n",
    "#     text = str(text).lower()\n",
    "#     text = re.sub(r\"http\\S+\", \"\", text)\n",
    "#     text = re.sub(f\"[{re.escape(string.punctuation)}]\", \"\", text)\n",
    "#     words = text.split()\n",
    "#     words = [lemmatizer.lemmatize(word) for word in words if word not in stop_words]\n",
    "#     return \" \".join(words)\n",
    "\n",
    "# def load_liar_dataset(folder):\n",
    "#     cols = ['label', 'statement', 'subject', 'speaker', 'speaker_job',\n",
    "#             'state_info', 'party_affiliation', 'barely_true_counts',\n",
    "#             'false_counts', 'half_true_counts', 'mostly_true_counts',\n",
    "#             'pants_on_fire_counts', 'context']\n",
    "#     train = pd.read_csv(\"train.tsv\", sep='\\t', names=cols)\n",
    "#     valid = pd.read_csv(\"valid.tsv\", sep='\\t', names=cols)\n",
    "#     test = pd.read_csv(\"test.tsv\", sep='\\t', names=cols)\n",
    "#     df = pd.concat([train, valid, test])\n",
    "#     fake_labels = ['pants-fire', 'false', 'barely-true']\n",
    "#     real_labels = ['half-true', 'mostly-true', 'true']\n",
    "#     df = df[df['label'].isin(fake_labels + real_labels)]\n",
    "#     df['label'] = df['label'].apply(lambda x: 0 if x in fake_labels else 1)\n",
    "#     df['text'] = df['statement'].apply(clean_text)\n",
    "#     return df[['text', 'label']]\n",
    "\n",
    "# def load_isot_dataset(path):\n",
    "#     df = pd.read_csv(path)\n",
    "#     df['label'] = df['label'].map({\"FAKE\": 0, \"REAL\": 1})\n",
    "#     df['text'] = df['text'].apply(clean_text)\n",
    "#     return df[['text', 'label']]"
   ]
  },
  {
   "cell_type": "code",
   "execution_count": 3,
   "id": "bdba077e",
   "metadata": {},
   "outputs": [
    {
     "name": "stdout",
     "output_type": "stream",
     "text": [
      "                                                text  label\n",
      "0  several high school senior texas high old time...      0\n",
      "1  group called people action held big gathering ...      0\n",
      "2  state florida additional cost implementation c...      1\n",
      "3  brussels reuters britain 10 day left deliver t...      1\n",
      "4  say scott walker defunding planned parenthood ...      1\n",
      "Shape: (57689, 2)\n",
      "Label Distribution:\n",
      " label\n",
      "0    29138\n",
      "1    28551\n",
      "Name: count, dtype: int64\n"
     ]
    }
   ],
   "source": [
    "# Set up cleaning tools\n",
    "stop_words = set(stopwords.words(\"english\"))\n",
    "lemmatizer = WordNetLemmatizer()\n",
    "\n",
    "# 🔧 Text cleaning function\n",
    "def clean_text(text):\n",
    "    text = str(text).lower()\n",
    "    text = re.sub(r\"http\\S+\", \"\", text)\n",
    "    text = re.sub(f\"[{re.escape(string.punctuation)}]\", \"\", text)\n",
    "    words = text.split()\n",
    "    words = [lemmatizer.lemmatize(word) for word in words if word not in stop_words]\n",
    "    return \" \".join(words)\n",
    "\n",
    "# 🗂️ Load LIAR dataset\n",
    "def load_liar_dataset(train_path, valid_path, test_path):\n",
    "    cols = ['label', 'statement', 'subject', 'speaker', 'speaker_job',\n",
    "            'state_info', 'party_affiliation', 'barely_true_counts',\n",
    "            'false_counts', 'half_true_counts', 'mostly_true_counts',\n",
    "            'pants_on_fire_counts', 'context']\n",
    "    \n",
    "    train = pd.read_csv(train_path, sep='\\t', names=cols)\n",
    "    valid = pd.read_csv(valid_path, sep='\\t', names=cols)\n",
    "    test  = pd.read_csv(test_path,  sep='\\t', names=cols)\n",
    "    \n",
    "    df = pd.concat([train, valid, test])\n",
    "    \n",
    "    fake_labels = ['pants-fire', 'false', 'barely-true']\n",
    "    real_labels = ['half-true', 'mostly-true', 'true']\n",
    "    \n",
    "    df = df[df['label'].isin(fake_labels + real_labels)]\n",
    "    df['label'] = df['label'].apply(lambda x: 0 if x in fake_labels else 1)\n",
    "    df['text'] = df['statement'].apply(clean_text)\n",
    "    \n",
    "    return df[['text', 'label']]\n",
    "\n",
    "# 🗂️ Load ISOT dataset (Kaggle version with separate files)\n",
    "def load_isot_dataset_kaggle(true_path, fake_path):\n",
    "    true_df = pd.read_csv(true_path)\n",
    "    fake_df = pd.read_csv(fake_path)\n",
    "    \n",
    "    true_df['label'] = 1\n",
    "    fake_df['label'] = 0\n",
    "    \n",
    "    true_df['text'] = true_df['text'].apply(clean_text)\n",
    "    fake_df['text'] = fake_df['text'].apply(clean_text)\n",
    "    \n",
    "    isot = pd.concat([true_df[['text', 'label']], fake_df[['text', 'label']]], ignore_index=True)\n",
    "    return isot\n",
    "\n",
    "# 📥 Load both datasets\n",
    "df_liar = load_liar_dataset(\"train.tsv\", \"valid.tsv\", \"test.tsv\")\n",
    "df_isot = load_isot_dataset_kaggle(\"True.csv\", \"Fake.csv\")\n",
    "\n",
    "# 🔗 Merge and shuffle\n",
    "df = pd.concat([df_liar, df_isot], ignore_index=True)\n",
    "df = df.sample(frac=1.0, random_state=42).reset_index(drop=True)\n",
    "\n",
    "# ✅ Final DataFrame\n",
    "print(df.head())\n",
    "print(\"Shape:\", df.shape)\n",
    "print(\"Label Distribution:\\n\", df['label'].value_counts())"
   ]
  },
  {
   "cell_type": "code",
   "execution_count": 4,
   "id": "404e2bfd",
   "metadata": {},
   "outputs": [],
   "source": [
    "from tensorflow.keras.preprocessing.text import Tokenizer\n",
    "from tensorflow.keras.preprocessing.sequence import pad_sequences\n",
    "\n",
    "MAX_NUM_WORDS = 20000\n",
    "MAX_SEQ_LEN = 100\n",
    "EMBEDDING_DIM = 100\n",
    "\n",
    "tokenizer = Tokenizer(num_words=MAX_NUM_WORDS, oov_token=\"<OOV>\")\n",
    "tokenizer.fit_on_texts(df['text'].values)\n",
    "sequences = tokenizer.texts_to_sequences(df['text'].values)\n",
    "X = pad_sequences(sequences, maxlen=MAX_SEQ_LEN)\n",
    "y = df['label'].values"
   ]
  },
  {
   "cell_type": "code",
   "execution_count": 5,
   "id": "7c4c6236",
   "metadata": {},
   "outputs": [],
   "source": [
    "embedding_index = {}\n",
    "with open(\"glove.6B.100d.txt\", encoding='utf8') as f:\n",
    "    for line in f:\n",
    "        values = line.split()\n",
    "        word = values[0]\n",
    "        coeffs = np.asarray(values[1:], dtype='float32')\n",
    "        embedding_index[word] = coeffs\n",
    "\n",
    "word_index = tokenizer.word_index\n",
    "embedding_matrix = np.zeros((MAX_NUM_WORDS, EMBEDDING_DIM))\n",
    "for word, i in word_index.items():\n",
    "    if i < MAX_NUM_WORDS and word in embedding_index:\n",
    "        embedding_matrix[i] = embedding_index[word]"
   ]
  },
  {
   "cell_type": "code",
   "execution_count": 20,
   "id": "60682a2e",
   "metadata": {},
   "outputs": [],
   "source": [
    "np.save(\"embedding_matrix.npy\", embedding_matrix)"
   ]
  },
  {
   "cell_type": "code",
   "execution_count": 6,
   "id": "f8432279",
   "metadata": {},
   "outputs": [],
   "source": [
    "X_train, X_test, y_train, y_test = train_test_split(X, y, test_size=0.2, random_state=42)"
   ]
  },
  {
   "cell_type": "code",
   "execution_count": 7,
   "id": "25728add",
   "metadata": {},
   "outputs": [],
   "source": [
    "class TransformerGRUClassifier(nn.Module):\n",
    "    def __init__(self, embedding_matrix, model_dim=100, num_heads=2, gru_hidden=64, dropout=0.3, num_classes=2):\n",
    "        super(TransformerGRUClassifier, self).__init__()\n",
    "        vocab_size, embed_dim = embedding_matrix.shape\n",
    "        self.embedding = nn.Embedding.from_pretrained(torch.tensor(embedding_matrix, dtype=torch.float32), freeze=False)\n",
    "        self.pos_encoder = nn.TransformerEncoderLayer(d_model=embed_dim, nhead=num_heads, batch_first=True)\n",
    "        self.transformer = nn.TransformerEncoder(self.pos_encoder, num_layers=1)\n",
    "        self.bigru = nn.GRU(embed_dim, gru_hidden, batch_first=True, bidirectional=True)\n",
    "        self.dropout = nn.Dropout(dropout)\n",
    "        self.fc = nn.Linear(gru_hidden * 2, num_classes)\n",
    "\n",
    "    def forward(self, x):\n",
    "        x = self.embedding(x)\n",
    "        x = self.transformer(x)\n",
    "        out, _ = self.bigru(x)\n",
    "        out = self.dropout(out[:, -1, :])\n",
    "        return self.fc(out)"
   ]
  },
  {
   "cell_type": "code",
   "execution_count": 8,
   "id": "29f8f9ec",
   "metadata": {},
   "outputs": [],
   "source": [
    "X_train_tensor = torch.tensor(X_train, dtype=torch.long)\n",
    "y_train_tensor = torch.tensor(y_train, dtype=torch.long)\n",
    "X_test_tensor = torch.tensor(X_test, dtype=torch.long)\n",
    "y_test_tensor = torch.tensor(y_test, dtype=torch.long)\n",
    "\n",
    "train_dataset = TensorDataset(X_train_tensor, y_train_tensor)\n",
    "test_dataset = TensorDataset(X_test_tensor, y_test_tensor)\n",
    "\n",
    "train_loader = DataLoader(train_dataset, batch_size=64, shuffle=True)\n",
    "test_loader = DataLoader(test_dataset, batch_size=64, shuffle=False)"
   ]
  },
  {
   "cell_type": "code",
   "execution_count": 9,
   "id": "ed8e3ac0",
   "metadata": {},
   "outputs": [
    {
     "name": "stdout",
     "output_type": "stream",
     "text": [
      "Epoch 1: Train Loss=0.2423, Acc=0.8740 | Val Loss=0.2024, Acc=0.8963\n",
      "Epoch 2: Train Loss=0.1711, Acc=0.9083 | Val Loss=0.1811, Acc=0.8970\n",
      "Epoch 3: Train Loss=0.1438, Acc=0.9245 | Val Loss=0.1938, Acc=0.9002\n",
      "Epoch 4: Train Loss=0.1238, Acc=0.9386 | Val Loss=0.2176, Acc=0.8990\n",
      "Epoch 5: Train Loss=0.1065, Acc=0.9495 | Val Loss=0.2240, Acc=0.8982\n",
      "Epoch 6: Train Loss=0.0872, Acc=0.9601 | Val Loss=0.2538, Acc=0.8983\n",
      "Epoch 7: Train Loss=0.0726, Acc=0.9669 | Val Loss=0.2831, Acc=0.8995\n",
      "Epoch 8: Train Loss=0.0620, Acc=0.9726 | Val Loss=0.3023, Acc=0.8965\n",
      "Epoch 9: Train Loss=0.0513, Acc=0.9783 | Val Loss=0.3524, Acc=0.8915\n",
      "Epoch 10: Train Loss=0.0476, Acc=0.9803 | Val Loss=0.4108, Acc=0.8946\n",
      "Epoch 11: Train Loss=0.0380, Acc=0.9850 | Val Loss=0.4062, Acc=0.8924\n",
      "Epoch 12: Train Loss=0.0338, Acc=0.9870 | Val Loss=0.4456, Acc=0.8917\n"
     ]
    }
   ],
   "source": [
    "device = torch.device(\"cuda\" if torch.cuda.is_available() else \"cpu\")\n",
    "model = TransformerGRUClassifier(embedding_matrix).to(device)\n",
    "criterion = nn.CrossEntropyLoss()\n",
    "optimizer = optim.Adam(model.parameters(), lr=1e-3)\n",
    "\n",
    "num_epochs = 12\n",
    "train_accuracies, train_losses = [], []\n",
    "val_accuracies, val_losses = [], []\n",
    "\n",
    "for epoch in range(num_epochs):\n",
    "    model.train()\n",
    "    total_loss, correct = 0, 0\n",
    "    \n",
    "    for X_batch, y_batch in train_loader:\n",
    "        X_batch, y_batch = X_batch.to(device), y_batch.to(device)\n",
    "        outputs = model(X_batch)\n",
    "        loss = criterion(outputs, y_batch)\n",
    "        optimizer.zero_grad()\n",
    "        loss.backward()\n",
    "        optimizer.step()\n",
    "        \n",
    "        total_loss += loss.item()\n",
    "        preds = torch.argmax(outputs, dim=1)\n",
    "        correct += (preds == y_batch).sum().item()\n",
    "\n",
    "    train_acc = correct / len(train_loader.dataset)\n",
    "    train_loss = total_loss / len(train_loader)\n",
    "    train_accuracies.append(train_acc)\n",
    "    train_losses.append(train_loss)\n",
    "\n",
    "    model.eval()\n",
    "    total_val_loss, correct_val = 0, 0\n",
    "    with torch.no_grad():\n",
    "        for X_batch, y_batch in test_loader:\n",
    "            X_batch, y_batch = X_batch.to(device), y_batch.to(device)\n",
    "            outputs = model(X_batch)\n",
    "            loss = criterion(outputs, y_batch)\n",
    "            total_val_loss += loss.item()\n",
    "            preds = torch.argmax(outputs, dim=1)\n",
    "            correct_val += (preds == y_batch).sum().item()\n",
    "\n",
    "    val_acc = correct_val / len(test_loader.dataset)\n",
    "    val_loss = total_val_loss / len(test_loader)\n",
    "    val_accuracies.append(val_acc)\n",
    "    val_losses.append(val_loss)\n",
    "\n",
    "    print(f\"Epoch {epoch+1}: Train Loss={train_loss:.4f}, Acc={train_acc:.4f} | Val Loss={val_loss:.4f}, Acc={val_acc:.4f}\")"
   ]
  },
  {
   "cell_type": "code",
   "execution_count": 10,
   "id": "3ca3f302",
   "metadata": {},
   "outputs": [
    {
     "name": "stdout",
     "output_type": "stream",
     "text": [
      "              precision    recall  f1-score   support\n",
      "\n",
      "        FAKE       0.88      0.91      0.90      5849\n",
      "        REAL       0.91      0.87      0.89      5689\n",
      "\n",
      "    accuracy                           0.89     11538\n",
      "   macro avg       0.89      0.89      0.89     11538\n",
      "weighted avg       0.89      0.89      0.89     11538\n",
      "\n"
     ]
    },
    {
     "data": {
      "image/png": "[encoded data removed]",
      "text/plain": [
       "<Figure size 640x480 with 2 Axes>"
      ]
     },
     "metadata": {},
     "output_type": "display_data"
    }
   ],
   "source": [
    "model.eval()\n",
    "all_preds, all_labels = [], []\n",
    "with torch.no_grad():\n",
    "    for X_batch, y_batch in test_loader:\n",
    "        X_batch = X_batch.to(device)\n",
    "        outputs = model(X_batch)\n",
    "        preds = torch.argmax(outputs, dim=1).cpu().numpy()\n",
    "        all_preds.extend(preds)\n",
    "        all_labels.extend(y_batch.numpy())\n",
    "\n",
    "print(classification_report(all_labels, all_preds, target_names=['FAKE', 'REAL']))\n",
    "\n",
    "cm = confusion_matrix(all_labels, all_preds)\n",
    "sns.heatmap(cm, annot=True, fmt='d', cmap='Blues', xticklabels=['FAKE', 'REAL'], yticklabels=['FAKE', 'REAL'])\n",
    "plt.xlabel(\"Predicted\")\n",
    "plt.ylabel(\"True\")\n",
    "plt.title(\"Confusion Matrix\")\n",
    "plt.show()"
   ]
  },
  {
   "cell_type": "code",
   "execution_count": 11,
   "id": "6150a0fe",
   "metadata": {},
   "outputs": [
    {
     "data": {
      "image/png": "[encoded data removed]",
      "text/plain": [
       "<Figure size 1200x500 with 2 Axes>"
      ]
     },
     "metadata": {},
     "output_type": "display_data"
    }
   ],
   "source": [
    "plt.figure(figsize=(12, 5))\n",
    "\n",
    "# Accuracy\n",
    "plt.subplot(1, 2, 1)\n",
    "plt.plot(train_accuracies, label='Train Accuracy', marker='o')\n",
    "plt.plot(val_accuracies, label='Validation Accuracy', marker='o')\n",
    "plt.title(\"Accuracy over Epochs\")\n",
    "plt.xlabel(\"Epoch\")\n",
    "plt.ylabel(\"Accuracy\")\n",
    "plt.legend()\n",
    "plt.grid(True)\n",
    "\n",
    "# Loss\n",
    "plt.subplot(1, 2, 2)\n",
    "plt.plot(train_losses, label='Train Loss', marker='o')\n",
    "plt.plot(val_losses, label='Validation Loss', marker='o')\n",
    "plt.title(\"Loss over Epochs\")\n",
    "plt.xlabel(\"Epoch\")\n",
    "plt.ylabel(\"Loss\")\n",
    "plt.legend()\n",
    "plt.grid(True)\n",
    "\n",
    "plt.tight_layout()\n",
    "plt.show()"
   ]
  },
  {
   "cell_type": "code",
   "execution_count": 12,
   "id": "61340476",
   "metadata": {},
   "outputs": [],
   "source": [
    "def predict_fake_news_verbose(text):\n",
    "    model.eval()\n",
    "    cleaned = clean_text(text)\n",
    "    \n",
    "    # Tokenize and pad\n",
    "    seq = tokenizer.texts_to_sequences([cleaned])\n",
    "    padded = pad_sequences(seq, maxlen=MAX_SEQ_LEN)\n",
    "    \n",
    "    # Convert to tensor and send to device\n",
    "    input_tensor = torch.tensor(padded, dtype=torch.long).to(device)\n",
    "\n",
    "    with torch.no_grad():\n",
    "        output = model(input_tensor)\n",
    "        prob = torch.softmax(output, dim=1).cpu().numpy()[0]\n",
    "        pred = torch.argmax(output, dim=1).item()\n",
    "\n",
    "    print(f\"Text: {text}\")\n",
    "    print(f\"→ Prediction: {'REAL' if pred == 1 else 'FAKE'} | Probabilities: [FAKE: {prob[0]:.2f}, REAL: {prob[1]:.2f}]\")"
   ]
  },
  {
   "cell_type": "code",
   "execution_count": 13,
   "id": "667bf976",
   "metadata": {},
   "outputs": [
    {
     "name": "stdout",
     "output_type": "stream",
     "text": [
      "Text: Joe Biden announced new education reforms during a press conference.\n",
      "→ Prediction: REAL | Probabilities: [FAKE: 0.12, REAL: 0.88]\n",
      "Text: Breaking: Aliens have landed on the White House lawn!\n",
      "→ Prediction: FAKE | Probabilities: [FAKE: 1.00, REAL: 0.00]\n"
     ]
    }
   ],
   "source": [
    "predict_fake_news_verbose(\"Joe Biden announced new education reforms during a press conference.\")\n",
    "predict_fake_news_verbose(\"Breaking: Aliens have landed on the White House lawn!\")"
   ]
  },
  {
   "cell_type": "code",
   "execution_count": 14,
   "id": "32cd8439",
   "metadata": {},
   "outputs": [],
   "source": [
    "def predict_fake_news_verbose(text, threshold=0.6):\n",
    "    model.eval()\n",
    "    cleaned = clean_text(text)\n",
    "    seq = tokenizer.texts_to_sequences([cleaned])\n",
    "    padded = pad_sequences(seq, maxlen=MAX_SEQ_LEN)\n",
    "    input_tensor = torch.tensor(padded, dtype=torch.long).to(device)\n",
    "\n",
    "    with torch.no_grad():\n",
    "        output = model(input_tensor)\n",
    "        prob = torch.softmax(output, dim=1).cpu().numpy()[0]\n",
    "        pred = torch.argmax(output, dim=1).item()\n",
    "\n",
    "    print(f\"Text: {text}\")\n",
    "    print(f\"→ Raw Probabilities: [FAKE: {prob[0]:.2f}, REAL: {prob[1]:.2f}]\")\n",
    "\n",
    "    if max(prob) < threshold:\n",
    "        print(\"⚠️ Low confidence prediction — this may be an edge case.\")\n",
    "    else:\n",
    "        print(f\"→ Prediction: {'REAL' if pred == 1 else 'FAKE'} | Confidence: {max(prob):.2f}\")"
   ]
  },
  {
   "cell_type": "code",
   "execution_count": 17,
   "id": "008c6fae",
   "metadata": {},
   "outputs": [
    {
     "name": "stdout",
     "output_type": "stream",
     "text": [
      "Text: Joe Biden announced new education reforms during a press conference.\n",
      "→ Raw Probabilities: [FAKE: 0.12, REAL: 0.88]\n",
      "→ Prediction: REAL | Confidence: 0.88\n",
      "Text: A new report suggests changes in voting patterns.\n",
      "→ Raw Probabilities: [FAKE: 1.00, REAL: 0.00]\n",
      "→ Prediction: FAKE | Confidence: 1.00\n",
      "Text: Aliens seen in Washington D.C.\n",
      "→ Raw Probabilities: [FAKE: 1.00, REAL: 0.00]\n",
      "→ Prediction: FAKE | Confidence: 1.00\n"
     ]
    }
   ],
   "source": [
    "# High confidence example\n",
    "predict_fake_news_verbose(\"Joe Biden announced new education reforms during a press conference.\")\n",
    "\n",
    "# Low confidence / ambiguous example\n",
    "predict_fake_news_verbose(\"A new report suggests changes in voting patterns.\")\n",
    "\n",
    "# You can also test the confidence threshold explicitly\n",
    "predict_fake_news_verbose(\"Aliens seen in Washington D.C.\", threshold=0.9)"
   ]
  },
  {
   "cell_type": "code",
   "execution_count": null,
   "id": "88779baf",
   "metadata": {},
   "outputs": [],
   "source": [
    "# import csv\n",
    "\n",
    "# def log_prediction(text, pred, prob):\n",
    "#     with open(\"prediction_logs.csv\", mode=\"a\", newline='', encoding=\"utf-8\") as file:\n",
    "#         writer = csv.writer(file)\n",
    "#         writer.writerow([text, 'REAL' if pred == 1 else 'FAKE', f\"{prob[0]:.4f}\", f\"{prob[1]:.4f}\"])\n"
   ]
  },
  {
   "cell_type": "code",
   "execution_count": 18,
   "id": "cebc3406",
   "metadata": {},
   "outputs": [],
   "source": [
    "# Save model\n",
    "torch.save(model.state_dict(), \"fake_news_model.pt\")\n",
    "# Optionally save tokenizer using pickle\n",
    "import pickle\n",
    "with open(\"tokenizer.pkl\", \"wb\") as f:\n",
    "    pickle.dump(tokenizer, f)"
   ]
  },
  {
   "cell_type": "code",
   "execution_count": 19,
   "id": "fc9d8532",
   "metadata": {},
   "outputs": [],
   "source": [
    "torch.save(model.state_dict(), \"fake_news_model.pth\")"
   ]
  },
  {
   "cell_type": "code",
   "execution_count": 22,
   "id": "a7c82e4c",
   "metadata": {},
   "outputs": [],
   "source": [
    "from keras_preprocessing.text import tokenizer_from_json\n",
    "\n",
    "# Save tokenizer as JSON\n",
    "tokenizer_json = tokenizer.to_json()\n",
    "with open(\"tokenizer.json\", \"w\") as f:\n",
    "    f.write(tokenizer_json)"
   ]
  }
 ],
 "metadata": {
  "kernelspec": {
   "display_name": "venv",
   "language": "python",
   "name": "python3"
  },
  "language_info": {
   "codemirror_mode": {
    "name": "ipython",
    "version": 3
   },
   "file_extension": ".py",
   "mimetype": "text/x-python",
   "name": "python",
   "nbconvert_exporter": "python",
   "pygments_lexer": "ipython3",
   "version": "3.10.0"
  }
 },
 "nbformat": 4,
 "nbformat_minor": 5
}
